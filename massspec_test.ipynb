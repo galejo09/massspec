{
 "cells": [
  {
   "cell_type": "code",
   "execution_count": 1,
   "metadata": {
    "scrolled": true
   },
   "outputs": [
    {
     "ename": "TabError",
     "evalue": "inconsistent use of tabs and spaces in indentation (AcqReadHeader.py, line 18)",
     "output_type": "error",
     "traceback": [
      "Traceback \u001b[1;36m(most recent call last)\u001b[0m:\n",
      "  File \u001b[0;32m\"C:\\Programfiles\\Anaconda3\\lib\\site-packages\\IPython\\core\\interactiveshell.py\"\u001b[0m, line \u001b[0;32m2862\u001b[0m, in \u001b[0;35mrun_code\u001b[0m\n    exec(code_obj, self.user_global_ns, self.user_ns)\n",
      "\u001b[1;36m  File \u001b[1;32m\"<ipython-input-1-d5a9cb96dfc0>\"\u001b[1;36m, line \u001b[1;32m2\u001b[1;36m, in \u001b[1;35m<module>\u001b[1;36m\u001b[0m\n\u001b[1;33m    from AcqReadHeader import *\u001b[0m\n",
      "\u001b[1;36m  File \u001b[1;32m\"H:\\cfel\\glaynel_2020\\AcqReadHeader.py\"\u001b[1;36m, line \u001b[1;32m18\u001b[0m\n\u001b[1;33m    if os.path.exists(self.file) is False:\u001b[0m\n\u001b[1;37m                                          ^\u001b[0m\n\u001b[1;31mTabError\u001b[0m\u001b[1;31m:\u001b[0m inconsistent use of tabs and spaces in indentation\n"
     ]
    }
   ],
   "source": [
    "import numpy as np \n",
    "from AcqReadHeader import *\n",
    "import os"
   ]
  },
  {
   "cell_type": "code",
   "execution_count": 2,
   "metadata": {},
   "outputs": [],
   "source": [
    "file = '20160202FullScanLaserA.signal.div'\n",
    "small_file = '11.signal.div'"
   ]
  },
  {
   "cell_type": "code",
   "execution_count": 3,
   "metadata": {
    "collapsed": true
   },
   "outputs": [],
   "source": [
    "a = AcqReadHeader(file)"
   ]
  },
  {
   "cell_type": "code",
   "execution_count": 4,
   "metadata": {},
   "outputs": [
    {
     "name": "stdout",
     "output_type": "stream",
     "text": [
      "uuid : [123  93  67 157 115  33 126  71 132 178  36 230 191  64  58 220]\n",
      "nVersion : [1]\n",
      "t : [1454419275          0]\n",
      "nFramesCount : [50]\n",
      "uLen : [40016]\n",
      "u1Pos : [88]\n",
      "dHighV : [250.]\n",
      "dLowV : [-250.]\n",
      "nFrameSize : [40000]\n",
      "nSize270 : [0]\n",
      "1AcqFile : [0]\n",
      "dThreshold1 : [50.]\n",
      "dSamplingPeriod : [0.25]\n",
      "u1end : 2000888\n"
     ]
    }
   ],
   "source": [
    "d = a.read(display=True)"
   ]
  },
  {
   "cell_type": "code",
   "execution_count": 7,
   "metadata": {},
   "outputs": [],
   "source": [
    "c = AcqReadHeader(small_file)"
   ]
  },
  {
   "cell_type": "code",
   "execution_count": 8,
   "metadata": {},
   "outputs": [
    {
     "name": "stdout",
     "output_type": "stream",
     "text": [
      "uuid : [123  93  67 157 115  33 126  71 132 178  36 230 191  64  58 220]\n",
      "nVersion : [2]\n",
      "t : [1576751664          0]\n",
      "nFramesCount : [20]\n",
      "uLen : [40016]\n",
      "u1Pos : [92]\n",
      "dHighV : [20.]\n",
      "dLowV : [-480.]\n",
      "nFrameSize : [40000]\n",
      "nSize270 : [0]\n",
      "1AcqFile : [0]\n",
      "dThreshold1 : [0.]\n",
      "dSamplingPeriod : [1.]\n",
      "u1end : 800412\n",
      "nCommentLen : [0]\n",
      "szComment : []\n"
     ]
    }
   ],
   "source": [
    "b = c.read(display=True)"
   ]
  },
  {
   "cell_type": "code",
   "execution_count": null,
   "metadata": {
    "collapsed": true
   },
   "outputs": [],
   "source": []
  }
 ],
 "metadata": {
  "kernelspec": {
   "display_name": "Python 3",
   "language": "python",
   "name": "python3"
  },
  "language_info": {
   "codemirror_mode": {
    "name": "ipython",
    "version": 3
   },
   "file_extension": ".py",
   "mimetype": "text/x-python",
   "name": "python",
   "nbconvert_exporter": "python",
   "pygments_lexer": "ipython3",
   "version": "3.6.2"
  }
 },
 "nbformat": 4,
 "nbformat_minor": 2
}
