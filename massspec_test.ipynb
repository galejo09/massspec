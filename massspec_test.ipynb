{
 "cells": [
  {
   "cell_type": "code",
   "execution_count": 1,
   "metadata": {
    "scrolled": true
   },
   "outputs": [],
   "source": [
    "import numpy as np \n",
    "from AcqReadHeader import *\n",
    "import sys"
   ]
  },
  {
   "cell_type": "code",
   "execution_count": 2,
   "metadata": {
    "scrolled": true
   },
   "outputs": [
    {
     "name": "stdout",
     "output_type": "stream",
     "text": [
      "[ 2.50315816e+036 -1.90816448e+136  3.91664701e+109 ...  4.62898756e-299\n",
      "  0.00000000e+000 -1.58615115e+000]\n"
     ]
    }
   ],
   "source": [
    "f = np.fromfile('20160202FullScanLaserA.signal.div', count=-1)\n",
    "print(f)"
   ]
  },
  {
   "cell_type": "code",
   "execution_count": 3,
   "metadata": {},
   "outputs": [],
   "source": [
    "file = '20160202FullScanLaserA.signal.div'\n",
    "small_file = '11.signal.div'"
   ]
  },
  {
   "cell_type": "code",
   "execution_count": 4,
   "metadata": {},
   "outputs": [
    {
     "name": "stdout",
     "output_type": "stream",
     "text": [
      "uuid : [123  93  67 157 115  33 126  71 132 178  36 230 191  64  58 220]\n",
      "nVersion : [1]\n",
      "t : [         1 1454419275]\n",
      "nFramesCount : [1454419275]\n",
      "uLen : [50]\n",
      "u1Pos : [377957162064]\n",
      "dHighV : [4.35e-322]\n",
      "dLowV : [250.]\n",
      "nFrameSize : [0]\n",
      "nSize270 : [40000]\n",
      "1AcqFile : [0]\n",
      "dThreshold1 : [0.]\n",
      "dSamplingPeriod : [50.]\n"
     ]
    }
   ],
   "source": [
    "b = AcqReadHeader.read(file, display=True)"
   ]
  },
  {
   "cell_type": "code",
   "execution_count": null,
   "metadata": {
    "collapsed": true
   },
   "outputs": [],
   "source": []
  }
 ],
 "metadata": {
  "kernelspec": {
   "display_name": "Python 3",
   "language": "python",
   "name": "python3"
  },
  "language_info": {
   "codemirror_mode": {
    "name": "ipython",
    "version": 3
   },
   "file_extension": ".py",
   "mimetype": "text/x-python",
   "name": "python",
   "nbconvert_exporter": "python",
   "pygments_lexer": "ipython3",
   "version": "3.6.2"
  }
 },
 "nbformat": 4,
 "nbformat_minor": 2
}
