{
 "cells": [
  {
   "cell_type": "code",
   "execution_count": 1,
   "metadata": {
    "scrolled": false
   },
   "outputs": [],
   "source": [
    "import numpy as np \n",
    "from massspec import *\n",
    "import os"
   ]
  },
  {
   "cell_type": "code",
   "execution_count": 2,
   "metadata": {},
   "outputs": [],
   "source": [
    "file = '20160202FullScanLaserA.signal.div'\n",
    "f = '01.signal.div'\n",
    "small_file = '11.signal.div'"
   ]
  },
  {
   "cell_type": "code",
   "execution_count": 3,
   "metadata": {},
   "outputs": [],
   "source": [
    "a = AnalyzeAcq(f)"
   ]
  },
  {
   "cell_type": "code",
   "execution_count": 4,
   "metadata": {},
   "outputs": [
    {
     "name": "stdout",
     "output_type": "stream",
     "text": [
      "uuid : [123  93  67 157 115  33 126  71 132 178  36 230 191  64  58 220]\n",
      "nVersion : [2]\n",
      "t : [1569314255          0]\n",
      "nFramesCount : [152]\n",
      "uLen : [40016]\n",
      "u1Pos : [92]\n",
      "dHighV : [20.]\n",
      "dLowV : [-480.]\n",
      "nFrameSize : [40000]\n",
      "nSize270 : [0]\n",
      "1AcqFile : [0]\n",
      "dThreshold1 : [0.]\n",
      "dSamplingPeriod : [1.]\n",
      "nCommentLen : [0]\n",
      "szComment : []\n",
      "u1Size : 6082524\n"
     ]
    }
   ],
   "source": [
    "header = a.read_header(display=True)"
   ]
  },
  {
   "cell_type": "code",
   "execution_count": 7,
   "metadata": {},
   "outputs": [],
   "source": [
    "t = a.time(header)"
   ]
  },
  {
   "cell_type": "code",
   "execution_count": 5,
   "metadata": {},
   "outputs": [],
   "source": [
    "c = AnalyzeAcq(small_file)"
   ]
  },
  {
   "cell_type": "code",
   "execution_count": 6,
   "metadata": {},
   "outputs": [
    {
     "name": "stdout",
     "output_type": "stream",
     "text": [
      "uuid : [123  93  67 157 115  33 126  71 132 178  36 230 191  64  58 220]\n",
      "nVersion : [2]\n",
      "t : [1576751664          0]\n",
      "nFramesCount : [20]\n",
      "uLen : [40016]\n",
      "u1Pos : [92]\n",
      "dHighV : [20.]\n",
      "dLowV : [-480.]\n",
      "nFrameSize : [40000]\n",
      "nSize270 : [0]\n",
      "1AcqFile : [0]\n",
      "dThreshold1 : [0.]\n",
      "dSamplingPeriod : [1.]\n",
      "nCommentLen : [0]\n",
      "szComment : []\n",
      "u1Size : 800412\n"
     ]
    }
   ],
   "source": [
    "b = c.read_header(display=True)"
   ]
  },
  {
   "cell_type": "code",
   "execution_count": null,
   "metadata": {
    "collapsed": true
   },
   "outputs": [],
   "source": []
  }
 ],
 "metadata": {
  "kernelspec": {
   "display_name": "Python 3",
   "language": "python",
   "name": "python3"
  },
  "language_info": {
   "codemirror_mode": {
    "name": "ipython",
    "version": 3
   },
   "file_extension": ".py",
   "mimetype": "text/x-python",
   "name": "python",
   "nbconvert_exporter": "python",
   "pygments_lexer": "ipython3",
   "version": "3.6.2"
  }
 },
 "nbformat": 4,
 "nbformat_minor": 2
}
